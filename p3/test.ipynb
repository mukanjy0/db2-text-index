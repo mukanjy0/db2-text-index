{
 "cells": [
  {
   "cell_type": "code",
   "execution_count": null,
   "metadata": {},
   "outputs": [],
   "source": [
    "import pandas as pd\n",
    "\n",
    "# Path to your original CSV file\n",
    "input_file_path = '/Users/edgarchambilla/Downloads/all-the-news-2-1.csv'\n",
    "\n",
    "# Path to the new CSV file\n",
    "output_file_path = '/Users/edgarchambilla/Downloads/title_article_filtered_1e3.csv'\n",
    "\n",
    "# Read the first 1000 rows of the CSV file\n",
    "df = pd.read_csv(input_file_path, nrows=1000)\n",
    "\n",
    "# Select the 'title' and 'article' columns\n",
    "df_selected = df[['title', 'article']]\n",
    "\n",
    "# Drop rows where either 'title' or 'article' is NULL\n",
    "df_filtered = df_selected.dropna(subset=['title', 'article'])\n",
    "\n",
    "# Add an 'id' column\n",
    "df_filtered = df_filtered.reset_index(drop=True)\n",
    "df_filtered['id'] = df_filtered.index + 1\n",
    "\n",
    "# Reorder the columns to have 'id' first\n",
    "df_filtered = df_filtered[['id', 'title', 'article']]\n",
    "\n",
    "# Write the filtered data to a new CSV file\n",
    "df_filtered.to_csv(output_file_path, index=False)\n",
    "\n",
    "print(f\"New CSV file created with non-null 'title' and 'article' columns at: {output_file_path}\")\n"
   ]
  }
 ],
 "metadata": {
  "language_info": {
   "name": "python"
  }
 },
 "nbformat": 4,
 "nbformat_minor": 2
}
